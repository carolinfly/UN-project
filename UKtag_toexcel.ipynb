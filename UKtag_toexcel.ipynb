{
 "cells": [
  {
   "cell_type": "code",
   "execution_count": 1,
   "metadata": {
    "collapsed": true
   },
   "outputs": [],
   "source": [
    "# Note: Python 2 Version\n",
    "# author: Shaoying Tang\n",
    "# Email: stang45@fordham.edu\n",
    "import json\n",
    "import numpy as np\n",
    "import pandas as pd"
   ]
  },
  {
   "cell_type": "code",
   "execution_count": 9,
   "metadata": {
    "collapsed": false
   },
   "outputs": [
    {
     "data": {
      "text/plain": [
       "18"
      ]
     },
     "execution_count": 9,
     "metadata": {},
     "output_type": "execute_result"
    }
   ],
   "source": [
    "with open('UKtag.json') as json_data:\n",
    "    d = json.load(json_data)\n",
    "len(d)"
   ]
  },
  {
   "cell_type": "code",
   "execution_count": 43,
   "metadata": {
    "collapsed": false
   },
   "outputs": [],
   "source": [
    "sentence_id = []\n",
    "cat = []\n",
    "sentence = []\n",
    "for s in d:\n",
    "    sentence_id.append(s['sentence_id,'])\n",
    "    cat.append(s['tag'])\n",
    "    sentence.append(s['sentence'])"
   ]
  },
  {
   "cell_type": "code",
   "execution_count": 60,
   "metadata": {
    "collapsed": true
   },
   "outputs": [],
   "source": [
    "category = []\n",
    "subcategory = []\n",
    "for i in range(18):\n",
    "    category.append(str(cat[i][0]['category']))\n",
    "    subcategory.append(str(cat[i][0]['subcategory'][0]))"
   ]
  },
  {
   "cell_type": "code",
   "execution_count": 61,
   "metadata": {
    "collapsed": false
   },
   "outputs": [],
   "source": [
    "Reason= []\n",
    "for i in range(18):\n",
    "    Reason.append('Unknown For Now')"
   ]
  },
  {
   "cell_type": "code",
   "execution_count": 62,
   "metadata": {
    "collapsed": false
   },
   "outputs": [],
   "source": [
    "dd={'SentenceID':sentence_id,'Sentence':sentence,'Category':category,'Subcategory':subcategory,'Reason':Reason}\n",
    "dframe = pd.DataFrame(dd)"
   ]
  },
  {
   "cell_type": "code",
   "execution_count": 63,
   "metadata": {
    "collapsed": false
   },
   "outputs": [
    {
     "data": {
      "text/html": [
       "<div>\n",
       "<table border=\"1\" class=\"dataframe\">\n",
       "  <thead>\n",
       "    <tr style=\"text-align: right;\">\n",
       "      <th></th>\n",
       "      <th>Category</th>\n",
       "      <th>Reason</th>\n",
       "      <th>Sentence</th>\n",
       "      <th>SentenceID</th>\n",
       "      <th>Subcategory</th>\n",
       "    </tr>\n",
       "  </thead>\n",
       "  <tbody>\n",
       "    <tr>\n",
       "      <th>0</th>\n",
       "      <td>technical measures</td>\n",
       "      <td>Unknown For Now</td>\n",
       "      <td>Establish a new operational partnership with t...</td>\n",
       "      <td>0d6be37f8c</td>\n",
       "      <td>standards</td>\n",
       "    </tr>\n",
       "    <tr>\n",
       "      <th>1</th>\n",
       "      <td>organization measures</td>\n",
       "      <td>Unknown For Now</td>\n",
       "      <td>... balancing security with freedom and privac...</td>\n",
       "      <td>5b9988bc85</td>\n",
       "      <td>policy</td>\n",
       "    </tr>\n",
       "    <tr>\n",
       "      <th>2</th>\n",
       "      <td>technical measures</td>\n",
       "      <td>Unknown For Now</td>\n",
       "      <td>We will model best practice on cyber security ...</td>\n",
       "      <td>47818b8c05</td>\n",
       "      <td>standards</td>\n",
       "    </tr>\n",
       "    <tr>\n",
       "      <th>3</th>\n",
       "      <td>technical measures</td>\n",
       "      <td>Unknown For Now</td>\n",
       "      <td>We will work with industry to develop rigorous...</td>\n",
       "      <td>7352b33524</td>\n",
       "      <td>standards</td>\n",
       "    </tr>\n",
       "    <tr>\n",
       "      <th>4</th>\n",
       "      <td>technical measures</td>\n",
       "      <td>Unknown For Now</td>\n",
       "      <td>In particular we will raise the standard of cy...</td>\n",
       "      <td>1f69eae1de</td>\n",
       "      <td>standards</td>\n",
       "    </tr>\n",
       "    <tr>\n",
       "      <th>5</th>\n",
       "      <td>technical measures</td>\n",
       "      <td>Unknown For Now</td>\n",
       "      <td>BIS will work with domestic, European and glob...</td>\n",
       "      <td>e050e96516</td>\n",
       "      <td>standards</td>\n",
       "    </tr>\n",
       "    <tr>\n",
       "      <th>6</th>\n",
       "      <td>technical measures</td>\n",
       "      <td>Unknown For Now</td>\n",
       "      <td>So BIS will work to stimulate the development ...</td>\n",
       "      <td>2973af12ae</td>\n",
       "      <td>standards</td>\n",
       "    </tr>\n",
       "    <tr>\n",
       "      <th>7</th>\n",
       "      <td>technical measures</td>\n",
       "      <td>Unknown For Now</td>\n",
       "      <td>BIS is also exploring ways in which industry-l...</td>\n",
       "      <td>1b4d15d03a</td>\n",
       "      <td>standards</td>\n",
       "    </tr>\n",
       "    <tr>\n",
       "      <th>8</th>\n",
       "      <td>technical measures</td>\n",
       "      <td>Unknown For Now</td>\n",
       "      <td>BIS will work with users, industry and appropr...</td>\n",
       "      <td>1fc96236fb</td>\n",
       "      <td>standards</td>\n",
       "    </tr>\n",
       "    <tr>\n",
       "      <th>9</th>\n",
       "      <td>technical measures</td>\n",
       "      <td>Unknown For Now</td>\n",
       "      <td>4.51 As we have said, we plan to require highe...</td>\n",
       "      <td>397498e67e</td>\n",
       "      <td>standards</td>\n",
       "    </tr>\n",
       "    <tr>\n",
       "      <th>10</th>\n",
       "      <td>technical measures</td>\n",
       "      <td>Unknown For Now</td>\n",
       "      <td>4.52 We are also raising the standard of cyber...</td>\n",
       "      <td>54e6fa64db</td>\n",
       "      <td>standards</td>\n",
       "    </tr>\n",
       "    <tr>\n",
       "      <th>11</th>\n",
       "      <td>technical measures</td>\n",
       "      <td>Unknown For Now</td>\n",
       "      <td>But the Government hopes these rising standard...</td>\n",
       "      <td>2afca8f86d</td>\n",
       "      <td>standards</td>\n",
       "    </tr>\n",
       "    <tr>\n",
       "      <th>12</th>\n",
       "      <td>cooperation</td>\n",
       "      <td>Unknown For Now</td>\n",
       "      <td>Promote greater levels of international cooper...</td>\n",
       "      <td>01485d64cf</td>\n",
       "      <td>international cooperation</td>\n",
       "    </tr>\n",
       "    <tr>\n",
       "      <th>13</th>\n",
       "      <td>technical measures</td>\n",
       "      <td>Unknown For Now</td>\n",
       "      <td>Working with domestic, European, global and co...</td>\n",
       "      <td>0261d67d51</td>\n",
       "      <td>standards</td>\n",
       "    </tr>\n",
       "    <tr>\n",
       "      <th>14</th>\n",
       "      <td>technical measures</td>\n",
       "      <td>Unknown For Now</td>\n",
       "      <td>Encourage industry-led standards and guidance ...</td>\n",
       "      <td>21c8c739f2</td>\n",
       "      <td>standards</td>\n",
       "    </tr>\n",
       "    <tr>\n",
       "      <th>15</th>\n",
       "      <td>organization measures</td>\n",
       "      <td>Unknown For Now</td>\n",
       "      <td>Work with allies to ensure implementation of N...</td>\n",
       "      <td>5ef3ef7649</td>\n",
       "      <td>policy</td>\n",
       "    </tr>\n",
       "    <tr>\n",
       "      <th>16</th>\n",
       "      <td>technical measures</td>\n",
       "      <td>Unknown For Now</td>\n",
       "      <td>Encourage international and regional organisat...</td>\n",
       "      <td>d9519a2878</td>\n",
       "      <td>standards</td>\n",
       "    </tr>\n",
       "    <tr>\n",
       "      <th>17</th>\n",
       "      <td>organization measures</td>\n",
       "      <td>Unknown For Now</td>\n",
       "      <td>To view this licence, visit www.nationalarchiv...</td>\n",
       "      <td>155445a825</td>\n",
       "      <td>policy</td>\n",
       "    </tr>\n",
       "  </tbody>\n",
       "</table>\n",
       "</div>"
      ],
      "text/plain": [
       "                 Category           Reason  \\\n",
       "0      technical measures  Unknown For Now   \n",
       "1   organization measures  Unknown For Now   \n",
       "2      technical measures  Unknown For Now   \n",
       "3      technical measures  Unknown For Now   \n",
       "4      technical measures  Unknown For Now   \n",
       "5      technical measures  Unknown For Now   \n",
       "6      technical measures  Unknown For Now   \n",
       "7      technical measures  Unknown For Now   \n",
       "8      technical measures  Unknown For Now   \n",
       "9      technical measures  Unknown For Now   \n",
       "10     technical measures  Unknown For Now   \n",
       "11     technical measures  Unknown For Now   \n",
       "12            cooperation  Unknown For Now   \n",
       "13     technical measures  Unknown For Now   \n",
       "14     technical measures  Unknown For Now   \n",
       "15  organization measures  Unknown For Now   \n",
       "16     technical measures  Unknown For Now   \n",
       "17  organization measures  Unknown For Now   \n",
       "\n",
       "                                             Sentence  SentenceID  \\\n",
       "0   Establish a new operational partnership with t...  0d6be37f8c   \n",
       "1   ... balancing security with freedom and privac...  5b9988bc85   \n",
       "2   We will model best practice on cyber security ...  47818b8c05   \n",
       "3   We will work with industry to develop rigorous...  7352b33524   \n",
       "4   In particular we will raise the standard of cy...  1f69eae1de   \n",
       "5   BIS will work with domestic, European and glob...  e050e96516   \n",
       "6   So BIS will work to stimulate the development ...  2973af12ae   \n",
       "7   BIS is also exploring ways in which industry-l...  1b4d15d03a   \n",
       "8   BIS will work with users, industry and appropr...  1fc96236fb   \n",
       "9   4.51 As we have said, we plan to require highe...  397498e67e   \n",
       "10  4.52 We are also raising the standard of cyber...  54e6fa64db   \n",
       "11  But the Government hopes these rising standard...  2afca8f86d   \n",
       "12  Promote greater levels of international cooper...  01485d64cf   \n",
       "13  Working with domestic, European, global and co...  0261d67d51   \n",
       "14  Encourage industry-led standards and guidance ...  21c8c739f2   \n",
       "15  Work with allies to ensure implementation of N...  5ef3ef7649   \n",
       "16  Encourage international and regional organisat...  d9519a2878   \n",
       "17  To view this licence, visit www.nationalarchiv...  155445a825   \n",
       "\n",
       "                  Subcategory  \n",
       "0                   standards  \n",
       "1                      policy  \n",
       "2                   standards  \n",
       "3                   standards  \n",
       "4                   standards  \n",
       "5                   standards  \n",
       "6                   standards  \n",
       "7                   standards  \n",
       "8                   standards  \n",
       "9                   standards  \n",
       "10                  standards  \n",
       "11                  standards  \n",
       "12  international cooperation  \n",
       "13                  standards  \n",
       "14                  standards  \n",
       "15                     policy  \n",
       "16                  standards  \n",
       "17                     policy  "
      ]
     },
     "execution_count": 63,
     "metadata": {},
     "output_type": "execute_result"
    }
   ],
   "source": [
    "dframe"
   ]
  },
  {
   "cell_type": "code",
   "execution_count": 68,
   "metadata": {
    "collapsed": false
   },
   "outputs": [],
   "source": [
    "dframe.to_excel('UKtag.xls')"
   ]
  },
  {
   "cell_type": "code",
   "execution_count": null,
   "metadata": {
    "collapsed": true
   },
   "outputs": [],
   "source": []
  }
 ],
 "metadata": {
  "kernelspec": {
   "display_name": "Python [Root]",
   "language": "python",
   "name": "Python [Root]"
  },
  "language_info": {
   "codemirror_mode": {
    "name": "ipython",
    "version": 2
   },
   "file_extension": ".py",
   "mimetype": "text/x-python",
   "name": "python",
   "nbconvert_exporter": "python",
   "pygments_lexer": "ipython2",
   "version": "2.7.12"
  }
 },
 "nbformat": 4,
 "nbformat_minor": 0
}
